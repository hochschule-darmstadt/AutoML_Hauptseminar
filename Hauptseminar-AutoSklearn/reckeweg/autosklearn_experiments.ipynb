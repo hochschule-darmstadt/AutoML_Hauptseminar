{
 "cells": [
  {
   "cell_type": "code",
   "execution_count": 14,
   "id": "99e9a56d",
   "metadata": {},
   "outputs": [],
   "source": [
    "import statistics\n",
    "\n",
    "import pandas as pd\n",
    "import sklearn.datasets\n",
    "\n",
    "from autosklearn.classification import AutoSklearnClassifier\n",
    "from autosklearn.regression import AutoSklearnRegressor\n",
    "from autosklearn.metrics import root_mean_squared_error\n",
    "from autosklearn.metrics import f1"
   ]
  },
  {
   "cell_type": "code",
   "execution_count": 15,
   "id": "da05eb64",
   "metadata": {},
   "outputs": [],
   "source": [
    "def load_and_prepare_cls_data():\n",
    "    cls_train, cls_test = [pd.read_csv(file) for file in [\"phishing_train.csv\", \"phishing_test.csv\"]]\n",
    "    \n",
    "    y_cls_train, y_cls_test = [data_frame[\"'Result'\"] for data_frame in [cls_train, cls_test]]\n",
    "    X_cls_train, X_cls_test = [data_frame.drop(\"'Result'\", axis=1) for data_frame in [cls_train, cls_test]] \n",
    "\n",
    "    return X_cls_train, y_cls_train, X_cls_test, y_cls_test"
   ]
  },
  {
   "cell_type": "code",
   "execution_count": 16,
   "id": "29b98df8",
   "metadata": {},
   "outputs": [],
   "source": [
    "def load_and_prepare_reg_data():\n",
    "    reg_train, reg_test = [\n",
    "        pd.read_csv(\n",
    "            file, \n",
    "            on_bad_lines=\"warn\", \n",
    "            na_values=\"?\", \n",
    "            quotechar=\"'\", \n",
    "            sep=\",\",\n",
    "            usecols=lambda x: x not in [\"school_name\", \"school_webpage\"],\n",
    "            dtype={\n",
    "                \"city\": \"category\",\n",
    "                \"state\": \"category\",\n",
    "                \"zip\": \"category\",\n",
    "                \"predominant_degree\": \"category\",\n",
    "                \"highest_degree\": \"category\",\n",
    "                \"ownership\": \"category\",\n",
    "                \"region\": \"category\",                            \n",
    "                \"gender\": \"category\",                              \n",
    "                \"carnegie_basic_classification\": \"category\",         \n",
    "                \"carnegie_undergraduate\": \"category\",                \n",
    "                \"carnegie_size\": \"category\",                        \n",
    "                \"religious_affiliation\": \"category\"\n",
    "            }\n",
    "        )    \n",
    "        for file in [\"college_train.csv\", \"college_test.csv\"]\n",
    "    ]\n",
    "    \n",
    "    y_reg_train, y_reg_test = [data_frame[\"percent_pell_grant\"] for data_frame in [reg_train, reg_test]]\n",
    "    X_reg_train, X_reg_test = [data_frame.drop(\"percent_pell_grant\", axis=1) for data_frame in [reg_train, reg_test]] \n",
    "    \n",
    "    return X_reg_train, y_reg_train, X_reg_test, y_reg_test"
   ]
  },
  {
   "cell_type": "code",
   "execution_count": 23,
   "id": "9e205e68",
   "metadata": {},
   "outputs": [],
   "source": [
    "def run_experiments(n, model_type, autosklearn_params):\n",
    "    if model_type == \"regression\":\n",
    "        X_train, y_train, X_test, y_test = load_and_prepare_reg_data()\n",
    "        automl = AutoSklearnRegressor\n",
    "        metric = root_mean_squared_error\n",
    "    else:\n",
    "        X_train, y_train, X_test, y_test = load_and_prepare_cls_data()\n",
    "        automl = AutoSklearnClassifier\n",
    "        metric = f1\n",
    "    \n",
    "    models = []\n",
    "    scores = []\n",
    "    \n",
    "    for i in range(n):\n",
    "        automl_instance = automl(**autosklearn_params)    \n",
    "        print(\"Started experiment number {0}\".format(i))\n",
    "        automl_instance.fit(X_train, y_train)\n",
    "        models.append(automl_instance)\n",
    "        prediction = automl_instance.predict(X_test)\n",
    "        score = metric(y_test, prediction)\n",
    "        scores.append(score)\n",
    "        print(\n",
    "            \"Finished experiment number {0}, the {1} model reached a {2} score of {3}\".format(\n",
    "            i + 1, \n",
    "            model_type, \n",
    "            metric.name, \n",
    "            score\n",
    "            )      \n",
    "        )\n",
    "        \n",
    "    mean_score = statistics.mean(scores)\n",
    "    \n",
    "    print(\"The mean {0} score of the {1} {2} models is {3}\".format(metric.name, n, model_type, mean_score))\n",
    "        \n",
    "    return models, scores, mean_score"
   ]
  },
  {
   "cell_type": "code",
   "execution_count": 18,
   "id": "00424486",
   "metadata": {},
   "outputs": [],
   "source": [
    "autosklearn_cls_params_dict = {\n",
    "    \"time_left_for_this_task\": 600,\n",
    "    \"tmp_folder\": \"./auto-sklearn_logs_cls\",\n",
    "    \"n_jobs\": -1,\n",
    "}\n",
    "\n",
    "autosklearn_reg_params_dict = {\n",
    "    \"time_left_for_this_task\": 600,\n",
    "    \"tmp_folder\": \"./auto-sklearn_logs_reg\",\n",
    "    \"n_jobs\": -1,\n",
    "}"
   ]
  },
  {
   "cell_type": "code",
   "execution_count": null,
   "id": "eb357402",
   "metadata": {},
   "outputs": [],
   "source": []
  },
  {
   "cell_type": "code",
   "execution_count": 20,
   "id": "a0d68d5e",
   "metadata": {},
   "outputs": [
    {
     "name": "stdout",
     "output_type": "stream",
     "text": [
      "Started experiment number 0\n",
      "Finished experiment number 0, the classification model reached a f1 score of 0.9339253068686342\n",
      "Started experiment number 1\n",
      "Finished experiment number 1, the classification model reached a f1 score of 0.9370887075546197\n",
      "Started experiment number 2\n",
      "Finished experiment number 2, the classification model reached a f1 score of 0.9363492898474487\n"
     ]
    }
   ],
   "source": [
    "cls_results = run_experiments(3, \"classification\", autosklearn_cls_params_dict)"
   ]
  },
  {
   "cell_type": "code",
   "execution_count": 21,
   "id": "8ee216ec",
   "metadata": {},
   "outputs": [],
   "source": [
    "reg_models, reg_scores, reg_mean_score = run_experiments(3, \"regression\", autosklearn_reg_params_dict)"
   ]
  },
  {
   "cell_type": "code",
   "execution_count": null,
   "id": "3737b3ef",
   "metadata": {},
   "outputs": [],
   "source": []
  },
  {
   "cell_type": "code",
   "execution_count": null,
   "id": "eb2e2869",
   "metadata": {},
   "outputs": [],
   "source": []
  },
  {
   "cell_type": "code",
   "execution_count": null,
   "id": "f4fa6653",
   "metadata": {},
   "outputs": [],
   "source": []
  },
  {
   "cell_type": "code",
   "execution_count": null,
   "id": "5ccb5698",
   "metadata": {},
   "outputs": [],
   "source": [
    "X, y = sklearn.datasets.fetch_openml(data_id=42727, as_frame=True, return_X_y=True)"
   ]
  }
 ],
 "metadata": {
  "kernelspec": {
   "display_name": "Python 3",
   "language": "python",
   "name": "python3"
  },
  "language_info": {
   "codemirror_mode": {
    "name": "ipython",
    "version": 3
   },
   "file_extension": ".py",
   "mimetype": "text/x-python",
   "name": "python",
   "nbconvert_exporter": "python",
   "pygments_lexer": "ipython3",
   "version": "3.9.7"
  }
 },
 "nbformat": 4,
 "nbformat_minor": 5
}
