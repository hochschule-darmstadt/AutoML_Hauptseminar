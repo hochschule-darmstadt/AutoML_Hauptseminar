{
 "cells": [
  {
   "cell_type": "markdown",
   "metadata": {},
   "source": [
    "# SageMaker Autopilot\n",
    "\n",
    "Based on: https://aws.amazon.com/blogs/aws/amazon-sagemaker-autopilot-fully-managed-automatic-machine-learning/\n",
    "\n",
    "## AWSCLI Setup\n",
    "First, the awscli tool was installed from the `conda-forge` channel. The access parameters were taken from https://www.rosettahub.com/ under \"Show AWS API Keys\" and the file was stored in `~/.aws/credentials`. The line `[default]` was added to the top, as no other AWS configuration was present on my own system.\n",
    "\n",
    "The following file was saved under `~/.aws/config`\n",
    "\n",
    "```\n",
    "[default]\n",
    "region=eu-west-1\n",
    "output=json\n",
    "```\n",
    "\n",
    "\n",
    "The preprocessed data (see my TansmogrifAI project) was uploaded into the bucket"
   ]
  },
  {
   "cell_type": "code",
   "execution_count": 13,
   "metadata": {},
   "outputs": [
    {
     "name": "stdout",
     "output_type": "stream",
     "text": [
      "lukasjautomlbuck\n",
      "upload: ../../TransmogrifAI/LukasJansen/college_train_headerfix.csv to s3://lukasjautomlbuck/college/input_train\n",
      "upload: ../../TransmogrifAI/LukasJansen/college_test_headerfix.csv to s3://lukasjautomlbuck/college/input_test\n",
      "upload: ../../TransmogrifAI/LukasJansen/phishing_train_headerfix.csv to s3://lukasjautomlbuck/phishing/input_train\n",
      "upload: ../../TransmogrifAI/LukasJansen/phishing_test_headerfix.csv to s3://lukasjautomlbuck/phishing/input_test\n",
      "2021-11-11 15:42:37     724520 college/input_test\n",
      "2021-11-11 15:42:33    2246087 college/input_train\n",
      "2021-11-11 15:42:43     251623 phishing/input_test\n",
      "2021-11-11 15:42:40     591152 phishing/input_train\n"
     ]
    }
   ],
   "source": [
    "%%bash\n",
    "# aws s3 mb s3://lukasjautomlbuck\n",
    "defaultbucket=\"lukasjautomlbuck\"\n",
    "repodir=$(git rev-parse --show-toplevel)\"/TransmogrifAI/LukasJansen/\"\n",
    "echo \"$defaultbucket\"\n",
    "aws s3 cp \"$repodir/college_train_headerfix.csv\" s3://\"$defaultbucket\"/college/input_train\n",
    "aws s3 cp \"$repodir/college_test_headerfix.csv\" s3://\"$defaultbucket\"/college/input_test\n",
    "aws s3 cp \"$repodir/phishing_train_headerfix.csv\" s3://\"$defaultbucket\"/phishing/input_train\n",
    "aws s3 cp \"$repodir/phishing_test_headerfix.csv\" s3://\"$defaultbucket\"/phishing/input_test\n",
    "aws s3 ls --recursive \"$defaultbucket\" \n"
   ]
  },
  {
   "cell_type": "markdown",
   "metadata": {},
   "source": [
    "Now under `https://eu-west-1.console.aws.amazon.com/sagemaker/home?region=eu-west-1#/studio/create-domain`a new role was created with any bucket access. Again, not a domain, but a execution role. Under \"User profile\""
   ]
  },
  {
   "cell_type": "code",
   "execution_count": null,
   "metadata": {},
   "outputs": [],
   "source": [
    "%%bash\n",
    "aws iam list-roles | grep SageMaker  "
   ]
  },
  {
   "cell_type": "markdown",
   "metadata": {},
   "source": [
    "## Running"
   ]
  },
  {
   "cell_type": "code",
   "execution_count": 37,
   "metadata": {},
   "outputs": [
    {
     "data": {
      "text/plain": [
       "('automl-dm-12-11-12-20',\n",
       " [{'DataSource': {'S3DataSource': {'S3DataType': 'S3Prefix',\n",
       "     'S3Uri': 's3://lukasjautomlbuck/college/input_train'}},\n",
       "   'TargetAttributeName': 'percent_bell_grant'}],\n",
       " {'S3OutputPath': 's3://lukasjautomlbuck/college/output'},\n",
       " {'CompletionCriteria': {'MaxRuntimePerTrainingJobInSeconds': 600}})"
      ]
     },
     "execution_count": 37,
     "metadata": {},
     "output_type": "execute_result"
    }
   ],
   "source": [
    "import datetime\n",
    "bucket=\"lukasjautomlbuck\"\n",
    "arn=\"arn:aws:iam::573849816758:role/service-role/AmazonSageMaker-ExecutionRole-20211112T113938\"\n",
    "\n",
    "def createjobconfig(problem:str, targetfield, minutes:int=10):\n",
    "    input_data_config = [{\n",
    "        'DataSource': {\n",
    "            'S3DataSource': {\n",
    "            'S3DataType': 'S3Prefix',\n",
    "            'S3Uri': f's3://{bucket}/{problem}/input_train'\n",
    "            }\n",
    "        },\n",
    "        'TargetAttributeName': targetfield\n",
    "        }\n",
    "    ]\n",
    "    output_data_config = {\n",
    "        'S3OutputPath': f's3://{bucket}/{problem}/output'\n",
    "    }\n",
    "    jobconfig = {\"CompletionCriteria\":{\"MaxRuntimePerTrainingJobInSeconds\": 60*minutes}}\n",
    "    name = 'automl-dm-' + datetime.datetime.now().strftime(\"%d-%m-%H-%M\")\n",
    "    return (name, input_data_config, output_data_config, jobconfig)\n",
    "\n",
    "createjobconfig(\"college\", \"percent_bell_grant\")"
   ]
  },
  {
   "cell_type": "code",
   "execution_count": 38,
   "metadata": {},
   "outputs": [
    {
     "data": {
      "text/plain": [
       "{'AutoMLJobArn': 'arn:aws:sagemaker:eu-west-1:573849816758:automl-job/automl-dm-12-11-12-21',\n",
       " 'ResponseMetadata': {'RequestId': 'f34ef19e-9833-4ced-9f61-56069dba3388',\n",
       "  'HTTPStatusCode': 200,\n",
       "  'HTTPHeaders': {'x-amzn-requestid': 'f34ef19e-9833-4ced-9f61-56069dba3388',\n",
       "   'content-type': 'application/x-amz-json-1.1',\n",
       "   'content-length': '92',\n",
       "   'date': 'Fri, 12 Nov 2021 11:21:02 GMT'},\n",
       "  'RetryAttempts': 0}}"
      ]
     },
     "execution_count": 38,
     "metadata": {},
     "output_type": "execute_result"
    }
   ],
   "source": [
    "import boto3\n",
    "sm = boto3.client('sagemaker')\n",
    "\n",
    "name, input_data_config, output_data_config, jobconfig = createjobconfig(\"college\", \"percent_pell_grant\")\n",
    "sm.create_auto_ml_job(AutoMLJobName=name,\n",
    "                      AutoMLJobConfig=jobconfig,\n",
    "                      InputDataConfig=input_data_config,\n",
    "                      OutputDataConfig=output_data_config,\n",
    "                      RoleArn=arn)"
   ]
  },
  {
   "cell_type": "code",
   "execution_count": 40,
   "metadata": {},
   "outputs": [
    {
     "data": {
      "text/plain": [
       "{'AutoMLJobArn': 'arn:aws:sagemaker:eu-west-1:573849816758:automl-job/automl-dm-12-11-12-22',\n",
       " 'ResponseMetadata': {'RequestId': 'dfc939b2-b405-4ed7-8334-50cfb5e99fb7',\n",
       "  'HTTPStatusCode': 200,\n",
       "  'HTTPHeaders': {'x-amzn-requestid': 'dfc939b2-b405-4ed7-8334-50cfb5e99fb7',\n",
       "   'content-type': 'application/x-amz-json-1.1',\n",
       "   'content-length': '92',\n",
       "   'date': 'Fri, 12 Nov 2021 11:22:04 GMT'},\n",
       "  'RetryAttempts': 0}}"
      ]
     },
     "execution_count": 40,
     "metadata": {},
     "output_type": "execute_result"
    }
   ],
   "source": [
    "name2, input_data_config, output_data_config, jobconfig = createjobconfig(\"phishing\", \"Result\")\n",
    "sm.create_auto_ml_job(AutoMLJobName=name2,\n",
    "                      AutoMLJobConfig=jobconfig,\n",
    "                      InputDataConfig=input_data_config,\n",
    "                      OutputDataConfig=output_data_config,\n",
    "                      RoleArn=arn)"
   ]
  },
  {
   "cell_type": "code",
   "execution_count": 64,
   "metadata": {},
   "outputs": [
    {
     "name": "stdout",
     "output_type": "stream",
     "text": [
      "InProgress\n",
      "ModelTuning\n",
      "InProgress\n",
      "ModelTuning\n"
     ]
    }
   ],
   "source": [
    "print(sm.describe_auto_ml_job(AutoMLJobName=name)[\"AutoMLJobStatus\"])\n",
    "print(sm.describe_auto_ml_job(AutoMLJobName=name)[\"AutoMLJobSecondaryStatus\"])\n",
    "print(sm.describe_auto_ml_job(AutoMLJobName=name2)[\"AutoMLJobStatus\"])\n",
    "print(sm.describe_auto_ml_job(AutoMLJobName=name2)[\"AutoMLJobSecondaryStatus\"])\n",
    "#sm.stop_auto_ml_job(AutoMLJobName=name)"
   ]
  },
  {
   "cell_type": "code",
   "execution_count": 62,
   "metadata": {},
   "outputs": [
    {
     "name": "stdout",
     "output_type": "stream",
     "text": [
      "College:\n",
      "0 automl-dm-12-11-12-21utjOKJZ8SOa-040-4ddd9732 {'MetricName': 'validation:objective_loss', 'Value': 0.35428234934806824}\n",
      "1 automl-dm-12-11-12-21utjOKJZ8SOa-033-8478dd13 {'MetricName': 'validation:objective_loss', 'Value': 0.21350312232971191}\n",
      "2 automl-dm-12-11-12-21utjOKJZ8SOa-032-880052ed {'MetricName': 'validation:objective_loss', 'Value': 0.09240235388278961}\n",
      "3 automl-dm-12-11-12-21utjOKJZ8SOa-027-2524bb8c {'MetricName': 'validation:objective_loss', 'Value': 0.053189948201179504}\n",
      "4 automl-dm-12-11-12-21utjOKJZ8SOa-013-7cde648a {'MetricName': 'validation:mse', 'Value': 0.04002000018954277}\n",
      "5 automl-dm-12-11-12-21utjOKJZ8SOa-012-86db4661 {'MetricName': 'validation:mse', 'Value': 0.0399399995803833}\n",
      "6 automl-dm-12-11-12-21utjOKJZ8SOa-011-c736f93c {'MetricName': 'validation:mse', 'Value': 0.03970000147819519}\n",
      "7 automl-dm-12-11-12-21utjOKJZ8SOa-047-b0dcce31 {'MetricName': 'validation:mse', 'Value': 0.03791999816894531}\n",
      "8 automl-dm-12-11-12-21utjOKJZ8SOa-052-d018c77d {'MetricName': 'validation:mse', 'Value': 0.037379998713731766}\n",
      "9 automl-dm-12-11-12-21utjOKJZ8SOa-026-efea79a0 {'MetricName': 'validation:mse', 'Value': 0.03686999902129173}\n",
      "Phishing:\n",
      "0 automl-dm-12-11-12-22fJHFyoDw8FE-025-1ad5e9a1 {'MetricName': 'validation:f1_binary', 'Value': 0.9667699933052063}\n",
      "1 automl-dm-12-11-12-22fJHFyoDw8FE-013-b73d1d7d {'MetricName': 'validation:f1_binary', 'Value': 0.9649999737739563}\n",
      "2 automl-dm-12-11-12-22fJHFyoDw8FE-012-c9efce87 {'MetricName': 'validation:f1_binary', 'Value': 0.9648200273513794}\n",
      "3 automl-dm-12-11-12-22fJHFyoDw8FE-014-f8848ab0 {'MetricName': 'validation:f1_binary', 'Value': 0.9646499752998352}\n",
      "4 automl-dm-12-11-12-22fJHFyoDw8FE-033-45314160 {'MetricName': 'validation:f1_binary', 'Value': 0.9642800092697144}\n",
      "5 automl-dm-12-11-12-22fJHFyoDw8FE-036-7b458067 {'MetricName': 'validation:f1_binary', 'Value': 0.963379979133606}\n",
      "6 automl-dm-12-11-12-22fJHFyoDw8FE-007-33ff291c {'MetricName': 'validation:binary_f_beta', 'Value': 0.963134229183197}\n",
      "7 automl-dm-12-11-12-22fJHFyoDw8FE-010-dec9dc7f {'MetricName': 'validation:f1_binary', 'Value': 0.9600499868392944}\n",
      "8 automl-dm-12-11-12-22fJHFyoDw8FE-004-c106f01e {'MetricName': 'validation:f1_binary', 'Value': 0.9592400193214417}\n",
      "9 automl-dm-12-11-12-22fJHFyoDw8FE-027-2c194287 {'MetricName': 'validation:binary_f_beta', 'Value': 0.9585607647895813}\n"
     ]
    }
   ],
   "source": [
    "print(\"College:\")\n",
    "candidates = sm.list_candidates_for_auto_ml_job(AutoMLJobName=name, SortBy='FinalObjectiveMetricValue')['Candidates']\n",
    "for i, c in enumerate(candidates):\n",
    "    print(f\"{i} {c['CandidateName']} {c['FinalAutoMLJobObjectiveMetric']}\")\n",
    "print(\"Phishing:\")\n",
    "candidates2 = sm.list_candidates_for_auto_ml_job(AutoMLJobName=name2, SortBy='FinalObjectiveMetricValue')['Candidates']\n",
    "for i, c in enumerate(candidates2):\n",
    "    print(f\"{i} {c['CandidateName']} {c['FinalAutoMLJobObjectiveMetric']}\")"
   ]
  },
  {
   "cell_type": "code",
   "execution_count": 63,
   "metadata": {},
   "outputs": [
    {
     "data": {
      "text/plain": [
       "[{'Image': '141502667606.dkr.ecr.eu-west-1.amazonaws.com/sagemaker-sklearn-automl:2.4-1-cpu-py3',\n",
       "  'ModelDataUrl': 's3://lukasjautomlbuck/college/output/automl-dm-12-11-12-21/data-processor-models/automl-dm-12-11-12-21-dpp5-1-c72b5620be334af087c05eb398134eeeb9/output/model.tar.gz',\n",
       "  'Environment': {'AUTOML_SPARSE_ENCODE_RECORDIO_PROTOBUF': '1',\n",
       "   'AUTOML_TRANSFORM_MODE': 'feature-transform',\n",
       "   'SAGEMAKER_DEFAULT_INVOCATIONS_ACCEPT': 'application/x-recordio-protobuf',\n",
       "   'SAGEMAKER_PROGRAM': 'sagemaker_serve',\n",
       "   'SAGEMAKER_SUBMIT_DIRECTORY': '/opt/ml/model/code'}},\n",
       " {'Image': '438346466558.dkr.ecr.eu-west-1.amazonaws.com/linear-learner:latest',\n",
       "  'ModelDataUrl': 's3://lukasjautomlbuck/college/output/automl-dm-12-11-12-21/tuning/automl-dm--dpp5-ll/automl-dm-12-11-12-21utjOKJZ8SOa-040-4ddd9732/output/model.tar.gz',\n",
       "  'Environment': {'MAX_CONTENT_LENGTH': '20971520',\n",
       "   'SAGEMAKER_DEFAULT_INVOCATIONS_ACCEPT': 'text/csv'}}]"
      ]
     },
     "execution_count": 63,
     "metadata": {},
     "output_type": "execute_result"
    }
   ],
   "source": [
    "model_name='automl-colmodel-' + datetime.datetime.now().strftime(\"%d-%m-%H-%M\")\n",
    "best_candidate=candidates[0]\n",
    "model = sm.create_model(Containers=best_candidate['InferenceContainers'],\n",
    "                            ModelName=model_name,\n",
    "                            ExecutionRoleArn=arn)\n",
    "\n",
    "model_name2='automl-phimodel-' + datetime.datetime.now().strftime(\"%d-%m-%H-%M\")\n",
    "best_candidate2=candidates2[0]\n",
    "model2 = sm.create_model(Containers=best_candidate2['InferenceContainers'],\n",
    "                            ModelName=model_name2,\n",
    "                            ExecutionRoleArn=arn)                         "
   ]
  },
  {
   "cell_type": "code",
   "execution_count": null,
   "metadata": {},
   "outputs": [],
   "source": []
  }
 ],
 "metadata": {
  "interpreter": {
   "hash": "f855f57845256203d08151c583c1aaf76afcbb6e4f663930ae60584d64ce540e"
  },
  "kernelspec": {
   "display_name": "Python 3.9.1 64-bit ('base': conda)",
   "name": "python3"
  },
  "language_info": {
   "codemirror_mode": {
    "name": "ipython",
    "version": 3
   },
   "file_extension": ".py",
   "mimetype": "text/x-python",
   "name": "python",
   "nbconvert_exporter": "python",
   "pygments_lexer": "ipython3",
   "version": "3.9.1"
  },
  "orig_nbformat": 4
 },
 "nbformat": 4,
 "nbformat_minor": 2
}
