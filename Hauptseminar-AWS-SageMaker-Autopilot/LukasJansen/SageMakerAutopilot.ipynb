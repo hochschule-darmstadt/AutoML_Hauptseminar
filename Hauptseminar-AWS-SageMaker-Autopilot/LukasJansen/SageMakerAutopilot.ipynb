{
 "cells": [
  {
   "cell_type": "markdown",
   "metadata": {},
   "source": [
    "# SageMaker Autopilot\n",
    "\n",
    "Based on: https://aws.amazon.com/blogs/aws/amazon-sagemaker-autopilot-fully-managed-automatic-machine-learning/\n",
    "\n",
    "## AWSCLI Setup\n",
    "First, the awscli tool was installed from the `conda-forge` channel. The access parameters were taken from https://www.rosettahub.com/ under \"Show AWS API Keys\" and the file was stored in `~/.aws/credentials`. The line `[default]` was added to the top, as no other AWS configuration was present on my own system.\n",
    "\n",
    "The following file was saved under `~/.aws/config`\n",
    "\n",
    "```\n",
    "[default]\n",
    "region=eu-west-1\n",
    "output=json\n",
    "```\n",
    "\n",
    "\n",
    "The preprocessed data (see my TansmogrifAI project) was uploaded into the bucket"
   ]
  },
  {
   "cell_type": "code",
   "execution_count": 13,
   "metadata": {},
   "outputs": [
    {
     "name": "stdout",
     "output_type": "stream",
     "text": [
      "lukasjautomlbuck\n",
      "upload: ../../TransmogrifAI/LukasJansen/college_train_headerfix.csv to s3://lukasjautomlbuck/college/input_train\n",
      "upload: ../../TransmogrifAI/LukasJansen/college_test_headerfix.csv to s3://lukasjautomlbuck/college/input_test\n",
      "upload: ../../TransmogrifAI/LukasJansen/phishing_train_headerfix.csv to s3://lukasjautomlbuck/phishing/input_train\n",
      "upload: ../../TransmogrifAI/LukasJansen/phishing_test_headerfix.csv to s3://lukasjautomlbuck/phishing/input_test\n",
      "2021-11-11 15:42:37     724520 college/input_test\n",
      "2021-11-11 15:42:33    2246087 college/input_train\n",
      "2021-11-11 15:42:43     251623 phishing/input_test\n",
      "2021-11-11 15:42:40     591152 phishing/input_train\n"
     ]
    }
   ],
   "source": [
    "%%bash\n",
    "# aws s3 mb s3://lukasjautomlbuck\n",
    "defaultbucket=\"lukasjautomlbuck\"\n",
    "repodir=$(git rev-parse --show-toplevel)\"/TransmogrifAI/LukasJansen/\"\n",
    "echo \"$defaultbucket\"\n",
    "aws s3 cp \"$repodir/college_train_headerfix.csv\" s3://\"$defaultbucket\"/college/input_train\n",
    "aws s3 cp \"$repodir/college_test_headerfix.csv\" s3://\"$defaultbucket\"/college/input_test\n",
    "aws s3 cp \"$repodir/phishing_train_headerfix.csv\" s3://\"$defaultbucket\"/phishing/input_train\n",
    "aws s3 cp \"$repodir/phishing_test_headerfix.csv\" s3://\"$defaultbucket\"/phishing/input_test\n",
    "aws s3 ls --recursive \"$defaultbucket\" \n"
   ]
  },
  {
   "cell_type": "markdown",
   "metadata": {},
   "source": [
    "Now under `https://eu-west-1.console.aws.amazon.com/sagemaker/home?region=eu-west-1#/studio/create-domain`a new role was created with any bucket access. Again, not a domain, but a execution role. Under \"User profile\""
   ]
  },
  {
   "cell_type": "code",
   "execution_count": null,
   "metadata": {},
   "outputs": [],
   "source": [
    "%%bash\n",
    "aws iam list-roles | grep SageMaker  "
   ]
  },
  {
   "cell_type": "markdown",
   "metadata": {},
   "source": [
    "## Running"
   ]
  },
  {
   "cell_type": "code",
   "execution_count": 37,
   "metadata": {},
   "outputs": [
    {
     "data": {
      "text/plain": [
       "('automl-dm-12-11-12-20',\n",
       " [{'DataSource': {'S3DataSource': {'S3DataType': 'S3Prefix',\n",
       "     'S3Uri': 's3://lukasjautomlbuck/college/input_train'}},\n",
       "   'TargetAttributeName': 'percent_bell_grant'}],\n",
       " {'S3OutputPath': 's3://lukasjautomlbuck/college/output'},\n",
       " {'CompletionCriteria': {'MaxRuntimePerTrainingJobInSeconds': 600}})"
      ]
     },
     "execution_count": 37,
     "metadata": {},
     "output_type": "execute_result"
    }
   ],
   "source": [
    "import datetime\n",
    "bucket=\"lukasjautomlbuck\"\n",
    "arn=\"arn:aws:iam::573849816758:role/service-role/AmazonSageMaker-ExecutionRole-20211112T113938\"\n",
    "\n",
    "def createjobconfig(problem:str, targetfield, minutes:int=10):\n",
    "    input_data_config = [{\n",
    "        'DataSource': {\n",
    "            'S3DataSource': {\n",
    "            'S3DataType': 'S3Prefix',\n",
    "            'S3Uri': f's3://{bucket}/{problem}/input_train'\n",
    "            }\n",
    "        },\n",
    "        'TargetAttributeName': targetfield\n",
    "        }\n",
    "    ]\n",
    "    output_data_config = {\n",
    "        'S3OutputPath': f's3://{bucket}/{problem}/output'\n",
    "    }\n",
    "    jobconfig = {\"CompletionCriteria\":{\"MaxRuntimePerTrainingJobInSeconds\": 60*minutes}}\n",
    "    name = 'automl-dm-' + datetime.datetime.now().strftime(\"%d-%m-%H-%M\")\n",
    "    return (name, input_data_config, output_data_config, jobconfig)\n",
    "\n",
    "createjobconfig(\"college\", \"percent_bell_grant\")"
   ]
  },
  {
   "cell_type": "code",
   "execution_count": 38,
   "metadata": {},
   "outputs": [
    {
     "data": {
      "text/plain": [
       "{'AutoMLJobArn': 'arn:aws:sagemaker:eu-west-1:573849816758:automl-job/automl-dm-12-11-12-21',\n",
       " 'ResponseMetadata': {'RequestId': 'f34ef19e-9833-4ced-9f61-56069dba3388',\n",
       "  'HTTPStatusCode': 200,\n",
       "  'HTTPHeaders': {'x-amzn-requestid': 'f34ef19e-9833-4ced-9f61-56069dba3388',\n",
       "   'content-type': 'application/x-amz-json-1.1',\n",
       "   'content-length': '92',\n",
       "   'date': 'Fri, 12 Nov 2021 11:21:02 GMT'},\n",
       "  'RetryAttempts': 0}}"
      ]
     },
     "execution_count": 38,
     "metadata": {},
     "output_type": "execute_result"
    }
   ],
   "source": [
    "import boto3\n",
    "sm = boto3.client('sagemaker')\n",
    "\n",
    "name, input_data_config, output_data_config, jobconfig = createjobconfig(\"college\", \"percent_pell_grant\")\n",
    "sm.create_auto_ml_job(AutoMLJobName=name,\n",
    "                      AutoMLJobConfig=jobconfig,\n",
    "                      InputDataConfig=input_data_config,\n",
    "                      OutputDataConfig=output_data_config,\n",
    "                      RoleArn=arn)"
   ]
  },
  {
   "cell_type": "code",
   "execution_count": 40,
   "metadata": {},
   "outputs": [
    {
     "data": {
      "text/plain": [
       "{'AutoMLJobArn': 'arn:aws:sagemaker:eu-west-1:573849816758:automl-job/automl-dm-12-11-12-22',\n",
       " 'ResponseMetadata': {'RequestId': 'dfc939b2-b405-4ed7-8334-50cfb5e99fb7',\n",
       "  'HTTPStatusCode': 200,\n",
       "  'HTTPHeaders': {'x-amzn-requestid': 'dfc939b2-b405-4ed7-8334-50cfb5e99fb7',\n",
       "   'content-type': 'application/x-amz-json-1.1',\n",
       "   'content-length': '92',\n",
       "   'date': 'Fri, 12 Nov 2021 11:22:04 GMT'},\n",
       "  'RetryAttempts': 0}}"
      ]
     },
     "execution_count": 40,
     "metadata": {},
     "output_type": "execute_result"
    }
   ],
   "source": [
    "name2, input_data_config, output_data_config, jobconfig = createjobconfig(\"phishing\", \"Result\")\n",
    "sm.create_auto_ml_job(AutoMLJobName=name2,\n",
    "                      AutoMLJobConfig=jobconfig,\n",
    "                      InputDataConfig=input_data_config,\n",
    "                      OutputDataConfig=output_data_config,\n",
    "                      RoleArn=arn)"
   ]
  },
  {
   "cell_type": "code",
   "execution_count": 41,
   "metadata": {},
   "outputs": [
    {
     "name": "stdout",
     "output_type": "stream",
     "text": [
      "AnalyzingData\n",
      "AnalyzingData\n"
     ]
    }
   ],
   "source": [
    "print(sm.describe_auto_ml_job(AutoMLJobName=name)[\"AutoMLJobSecondaryStatus\"])\n",
    "print(sm.describe_auto_ml_job(AutoMLJobName=name2)[\"AutoMLJobSecondaryStatus\"])\n",
    "#sm.stop_auto_ml_job(AutoMLJobName=name)"
   ]
  },
  {
   "cell_type": "code",
   "execution_count": 36,
   "metadata": {},
   "outputs": [
    {
     "data": {
      "text/plain": [
       "{'Candidates': [],\n",
       " 'ResponseMetadata': {'RequestId': 'f27e38fc-d7b6-43d8-9f36-b276a653aa7d',\n",
       "  'HTTPStatusCode': 200,\n",
       "  'HTTPHeaders': {'x-amzn-requestid': 'f27e38fc-d7b6-43d8-9f36-b276a653aa7d',\n",
       "   'content-type': 'application/x-amz-json-1.1',\n",
       "   'content-length': '17',\n",
       "   'date': 'Fri, 12 Nov 2021 11:20:16 GMT'},\n",
       "  'RetryAttempts': 0}}"
      ]
     },
     "execution_count": 36,
     "metadata": {},
     "output_type": "execute_result"
    }
   ],
   "source": [
    "candidates = sm.list_candidates_for_auto_ml_job(AutoMLJobName=name2, SortBy='FinalObjectiveMetricValue')\n",
    "candidates"
   ]
  }
 ],
 "metadata": {
  "interpreter": {
   "hash": "f855f57845256203d08151c583c1aaf76afcbb6e4f663930ae60584d64ce540e"
  },
  "kernelspec": {
   "display_name": "Python 3.9.1 64-bit ('base': conda)",
   "name": "python3"
  },
  "language_info": {
   "codemirror_mode": {
    "name": "ipython",
    "version": 3
   },
   "file_extension": ".py",
   "mimetype": "text/x-python",
   "name": "python",
   "nbconvert_exporter": "python",
   "pygments_lexer": "ipython3",
   "version": "3.9.1"
  },
  "orig_nbformat": 4
 },
 "nbformat": 4,
 "nbformat_minor": 2
}
